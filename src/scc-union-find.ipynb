{
 "cells": [
  {
   "cell_type": "markdown",
   "metadata": {},
   "source": [
    "# Unionfind for SCC"
   ]
  },
  {
   "cell_type": "markdown",
   "metadata": {},
   "source": [
    "Access the data structure defined in the other file so as not to dump all the code in the notebook. "
   ]
  },
  {
   "cell_type": "code",
   "execution_count": 17,
   "metadata": {},
   "outputs": [],
   "source": [
    "%run 'ryan-scc-union-find.py'"
   ]
  },
  {
   "cell_type": "markdown",
   "metadata": {},
   "source": [
    "Defining a sample filtration to run the data structure on. \n",
    "\n",
    "Data is stored in the same format as accepted by the data structure: \n",
    "- for vertices, $(\\text{id}, \\text{birthday})$, \n",
    "- for edges, $(\\text{start}, \\text{end}, \\text{birthday})$. \n",
    "\n",
    "The historical SCC printed does not include SCC's that are still in the graph. It is in the format of $(\\text{leader vertex id}, \\text{birthday (inclusive), \\text{death time (exclusive)}})$. "
   ]
  },
  {
   "cell_type": "code",
   "execution_count": 18,
   "metadata": {},
   "outputs": [],
   "source": [
    "vertices = [(1, 1), (2, 1), (3, 2), (4, 2), (5, 3)]\n",
    "edges = [(1, 2, 1), (3, 1, 2), (3, 4, 2), (2, 4, 2), (3, 5, 3), (4, 1, 3), (2, 5, 3), (4, 5, 3)]"
   ]
  },
  {
   "cell_type": "code",
   "execution_count": 19,
   "metadata": {},
   "outputs": [
    {
     "name": "stdout",
     "output_type": "stream",
     "text": [
      "[(2, 1, 3), (4, 2, 3)]\n"
     ]
    }
   ],
   "source": [
    "S = SCCUnionFind()\n",
    "\n",
    "for vertex in vertices:\n",
    "    S.add_vertex(vertex[0], vertex[1])\n",
    "\n",
    "for edge in edges:\n",
    "    S.add_edge(edge[0], edge[1], edge[2])\n",
    "\n",
    "S.time = 3\n",
    "print(S.get_scc_count)"
   ]
  }
 ],
 "metadata": {
  "interpreter": {
   "hash": "916dbcbb3f70747c44a77c7bcd40155683ae19c65e1c03b4aa3499c5328201f1"
  },
  "kernelspec": {
   "display_name": "Python 3.8.10 64-bit",
   "language": "python",
   "name": "python3"
  },
  "language_info": {
   "codemirror_mode": {
    "name": "ipython",
    "version": 3
   },
   "file_extension": ".py",
   "mimetype": "text/x-python",
   "name": "python",
   "nbconvert_exporter": "python",
   "pygments_lexer": "ipython3",
   "version": "3.8.10"
  },
  "orig_nbformat": 4
 },
 "nbformat": 4,
 "nbformat_minor": 2
}
